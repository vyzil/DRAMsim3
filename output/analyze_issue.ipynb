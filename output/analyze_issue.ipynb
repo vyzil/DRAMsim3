{
 "cells": [
  {
   "cell_type": "code",
   "execution_count": 2,
   "metadata": {},
   "outputs": [],
   "source": [
    "import os\n",
    "import re\n",
    "import pandas as pd\n",
    "from collections import defaultdict\n",
    "from dataclasses import dataclass\n"
   ]
  },
  {
   "cell_type": "code",
   "execution_count": 3,
   "metadata": {},
   "outputs": [],
   "source": [
    "@dataclass\n",
    "class ChannelStat:\n",
    "    utilized_cycles: int = 0\n",
    "    transaction_count: int = 0\n",
    "\n",
    "import re\n",
    "import pandas as pd\n",
    "from dataclasses import dataclass\n",
    "\n",
    "@dataclass\n",
    "class ChannelStat:\n",
    "    utilized_cycles: int = 0\n",
    "    transaction_count: int = 0\n",
    "    is_active: bool = False\n",
    "    active_start_cycle: int = 0\n",
    "\n",
    "BURST_CYCLES = 2\n",
    "\n",
    "def analyze_channel_utilization(log_filename=\"log.txt\", num_channels=16, verbose=True):\n",
    "    stats = [ChannelStat() for _ in range(num_channels)]\n",
    "\n",
    "    cycle_pattern = re.compile(r\"\\[\\+\\]\\s*(\\d+)\")\n",
    "    cmd_pattern = re.compile(r\"\\(Issue\\)\\s+Type:\\s+(READ|WRITE)\\s+\\|\\s+Addr:\\s+0x[0-9a-fA-F]+ -> Channel:\\s+(-?\\d+),\")\n",
    "\n",
    "    current_cycle = 0\n",
    "\n",
    "    with open(log_filename, \"r\") as f:\n",
    "        for line in f:\n",
    "            if cycle_match := cycle_pattern.search(line):\n",
    "                current_cycle = int(cycle_match.group(1))\n",
    "\n",
    "            if cmd_match := cmd_pattern.search(line):\n",
    "                cmd_type, ch_str = cmd_match.groups()\n",
    "                ch = int(ch_str)\n",
    "                if 0 <= ch < num_channels:\n",
    "                    stats[ch].transaction_count += 1\n",
    "\n",
    "    # Calculate burst-based utilized_cycles\n",
    "    for stat in stats:\n",
    "        stat.utilized_cycles = stat.transaction_count * BURST_CYCLES\n",
    "\n",
    "    return stats, current_cycle\n",
    "\n",
    "\n",
    "def print_channel_stats(stats, total_cycles):\n",
    "    print(f\"Cycles : {total_cycles}\")\n",
    "    for ch, stat in enumerate(stats):\n",
    "        utilization = stat.utilized_cycles / total_cycles * 100 if total_cycles > 0 else 0\n",
    "        print(f\"Ch{ch:2d} : {utilization:6.2f}% ({stat.transaction_count}, {stat.utilized_cycles})\")\n",
    "\n"
   ]
  },
  {
   "cell_type": "code",
   "execution_count": 53,
   "metadata": {},
   "outputs": [
    {
     "name": "stdout",
     "output_type": "stream",
     "text": [
      "Cycles : 375\n",
      "Ch 0 :  17.07% (32, 64)\n",
      "Ch 1 :  17.07% (32, 64)\n",
      "Ch 2 :  17.07% (32, 64)\n",
      "Ch 3 :  17.07% (32, 64)\n",
      "Ch 4 :  17.07% (32, 64)\n",
      "Ch 5 :  17.07% (32, 64)\n",
      "Ch 6 :  17.07% (32, 64)\n",
      "Ch 7 :  17.07% (32, 64)\n",
      "Ch 8 :  17.07% (32, 64)\n",
      "Ch 9 :  17.07% (32, 64)\n",
      "Ch10 :  17.07% (32, 64)\n",
      "Ch11 :  17.07% (32, 64)\n",
      "Ch12 :  17.07% (32, 64)\n",
      "Ch13 :  17.07% (32, 64)\n",
      "Ch14 :  17.07% (32, 64)\n",
      "Ch15 :  17.07% (32, 64)\n"
     ]
    }
   ],
   "source": [
    "stats, total_cycles = analyze_channel_utilization(\"log.txt\")\n",
    "print_channel_stats(stats, total_cycles)"
   ]
  },
  {
   "cell_type": "code",
   "execution_count": null,
   "metadata": {},
   "outputs": [],
   "source": []
  }
 ],
 "metadata": {
  "kernelspec": {
   "display_name": "Python 3",
   "language": "python",
   "name": "python3"
  },
  "language_info": {
   "codemirror_mode": {
    "name": "ipython",
    "version": 3
   },
   "file_extension": ".py",
   "mimetype": "text/x-python",
   "name": "python",
   "nbconvert_exporter": "python",
   "pygments_lexer": "ipython3",
   "version": "3.10.12"
  }
 },
 "nbformat": 4,
 "nbformat_minor": 2
}
